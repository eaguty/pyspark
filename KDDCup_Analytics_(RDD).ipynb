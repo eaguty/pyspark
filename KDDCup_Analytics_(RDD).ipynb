{
  "cells": [
    {
      "cell_type": "markdown",
      "metadata": {
        "id": "9nrTNalW81Uo"
      },
      "source": [
        "# **KDDCup Data Analytics with PySpark RDD: A structured case study**\n",
        "\n",
        "### Udemy Course: Best Hands-on Big Data Practices and Use Cases using PySpark\n",
        "\n",
        "### Author: Amin Karami (PhD, FHEA)\n",
        "\n",
        "##### data source: http://kdd.ics.uci.edu/databases/kddcup99/kddcup99.html\n"
      ]
    },
    {
      "cell_type": "code",
      "execution_count": null,
      "metadata": {
        "id": "ghTJybh281Ur"
      },
      "outputs": [],
      "source": [
        "########## ONLY in Colab ##########\n",
        "!pip3 install pyspark\n",
        "########## ONLY in Colab ##########"
      ]
    },
    {
      "cell_type": "code",
      "execution_count": 1,
      "metadata": {
        "id": "Lv29DcwT81Ut"
      },
      "outputs": [],
      "source": [
        "########## ONLY in Ubuntu Machine ##########\n",
        "# Load Spark engine\n",
        "!pip3 install -q findspark\n",
        "import findspark\n",
        "findspark.init()\n",
        "########## ONLY in Ubuntu Machine ##########"
      ]
    },
    {
      "cell_type": "code",
      "execution_count": 2,
      "metadata": {
        "id": "06d5GLeN81Ut"
      },
      "outputs": [
        {
          "name": "stdout",
          "output_type": "stream",
          "text": [
            "23/03/20 08:32:14 WARN Utils: Your hostname, Adrian-Laptop.local resolves to a loopback address: 127.0.0.1; using 192.168.100.19 instead (on interface en0)\n",
            "23/03/20 08:32:14 WARN Utils: Set SPARK_LOCAL_IP if you need to bind to another address\n"
          ]
        },
        {
          "name": "stderr",
          "output_type": "stream",
          "text": [
            "Setting default log level to \"WARN\".\n",
            "To adjust logging level use sc.setLogLevel(newLevel). For SparkR, use setLogLevel(newLevel).\n"
          ]
        },
        {
          "name": "stdout",
          "output_type": "stream",
          "text": [
            "23/03/20 08:32:15 WARN NativeCodeLoader: Unable to load native-hadoop library for your platform... using builtin-java classes where applicable\n",
            "<SparkContext master=local[*] appName=KDDCup_PySpark>\n",
            "Ready to go!\n"
          ]
        }
      ],
      "source": [
        "from pyspark import SparkContext, SparkConf\n",
        "\n",
        "# Initializing Spark\n",
        "conf = SparkConf().setAppName(\"KDDCup_PySpark\").setMaster(\"local[*]\")\n",
        "sc = SparkContext(conf=conf)\n",
        "print(sc)\n",
        "print(\"Ready to go!\")"
      ]
    },
    {
      "cell_type": "code",
      "execution_count": null,
      "metadata": {
        "id": "JJkJ_MLgLgkW"
      },
      "outputs": [],
      "source": [
        "from google.colab import drive\n",
        "drive.mount('/content/drive')"
      ]
    },
    {
      "cell_type": "code",
      "execution_count": 4,
      "metadata": {
        "id": "UGorHKN581Uu"
      },
      "outputs": [],
      "source": [
        "# Read and Load Data to Spark\n",
        "# Data source: http://kdd.ics.uci.edu/databases/kddcup99/kddcup99.html\n",
        "rdd = sc.textFile('kddcup.data.gz')\n"
      ]
    },
    {
      "cell_type": "code",
      "execution_count": 8,
      "metadata": {
        "id": "6O_dV30S81Uu"
      },
      "outputs": [
        {
          "name": "stdout",
          "output_type": "stream",
          "text": [
            "8\n",
            "10\n"
          ]
        },
        {
          "data": {
            "text/plain": [
              "MapPartitionsRDD[16] at coalesce at NativeMethodAccessorImpl.java:0"
            ]
          },
          "execution_count": 8,
          "metadata": {},
          "output_type": "execute_result"
        }
      ],
      "source": [
        "# Repartition and Cache Data:\n",
        "rdd = rdd.repartition(10)\n",
        "print(sc.defaultParallelism)\n",
        "print(rdd.getNumPartitions())\n",
        "\n",
        "rdd.persist()"
      ]
    },
    {
      "cell_type": "markdown",
      "metadata": {
        "id": "zl7nmy6S81Uw"
      },
      "source": [
        "## Question 1: Get ten records randomly\n"
      ]
    },
    {
      "cell_type": "code",
      "execution_count": 9,
      "metadata": {
        "id": "HG1ypizS81Ux"
      },
      "outputs": [
        {
          "name": "stderr",
          "output_type": "stream",
          "text": [
            "                                                                                \r"
          ]
        },
        {
          "data": {
            "text/plain": [
              "['0,icmp,ecr_i,SF,1032,0,0,0,0,0,0,0,0,0,0,0,0,0,0,0,0,0,511,511,0.00,0.00,0.00,0.00,1.00,0.00,0.00,255,255,1.00,0.00,1.00,0.00,0.00,0.00,0.00,0.00,smurf.',\n",
              " '3327,udp,other,SF,146,105,0,0,0,0,0,0,0,0,0,0,0,0,0,0,0,0,1,1,0.00,0.00,0.00,0.00,1.00,0.00,0.00,255,2,0.01,0.67,0.95,0.00,0.00,0.00,0.00,0.00,normal.',\n",
              " '0,tcp,private,S0,0,0,0,0,0,0,0,0,0,0,0,0,0,0,0,0,0,0,278,19,1.00,1.00,0.00,0.00,0.07,0.05,0.00,255,19,0.07,0.05,0.00,0.00,1.00,1.00,0.00,0.00,neptune.',\n",
              " '0,icmp,ecr_i,SF,1032,0,0,0,0,0,0,0,0,0,0,0,0,0,0,0,0,0,510,510,0.00,0.00,0.00,0.00,1.00,0.00,0.00,255,255,1.00,0.00,1.00,0.00,0.00,0.00,0.00,0.00,smurf.',\n",
              " '0,icmp,eco_i,SF,8,0,0,0,0,0,0,0,0,0,0,0,0,0,0,0,0,0,1,26,0.00,0.00,0.00,0.00,1.00,0.00,1.00,2,255,1.00,0.00,1.00,0.50,0.00,0.00,0.00,0.00,ipsweep.',\n",
              " '0,tcp,private,S0,0,0,0,0,0,0,0,0,0,0,0,0,0,0,0,0,0,0,103,5,1.00,1.00,0.00,0.00,0.05,0.06,0.00,255,18,0.07,0.06,0.00,0.00,1.00,1.00,0.00,0.00,neptune.',\n",
              " '0,icmp,ecr_i,SF,520,0,0,0,0,0,0,0,0,0,0,0,0,0,0,0,0,0,511,511,0.00,0.00,0.00,0.00,1.00,0.00,0.00,255,255,1.00,0.00,1.00,0.00,0.00,0.00,0.00,0.00,smurf.',\n",
              " '0,udp,domain_u,SF,44,82,0,0,0,0,0,0,0,0,0,0,0,0,0,0,0,0,26,26,0.00,0.00,0.00,0.00,1.00,0.00,0.00,185,165,0.89,0.01,0.01,0.00,0.00,0.00,0.00,0.00,normal.',\n",
              " '0,tcp,http,SF,321,3983,0,0,0,0,0,1,0,0,0,0,0,0,0,0,0,0,29,29,0.00,0.00,0.00,0.00,1.00,0.00,0.00,188,255,1.00,0.00,0.01,0.02,0.01,0.01,0.00,0.00,normal.',\n",
              " '0,icmp,ecr_i,SF,1032,0,0,0,0,0,0,0,0,0,0,0,0,0,0,0,0,0,511,511,0.00,0.00,0.00,0.00,1.00,0.00,0.00,255,255,1.00,0.00,1.00,0.00,0.00,0.00,0.00,0.00,smurf.']"
            ]
          },
          "execution_count": 9,
          "metadata": {},
          "output_type": "execute_result"
        }
      ],
      "source": [
        "rdd.takeSample(False, 10, 1234)"
      ]
    },
    {
      "cell_type": "markdown",
      "metadata": {
        "id": "uBgW8XMl81Uv"
      },
      "source": [
        "## Question 2: Count elements"
      ]
    },
    {
      "cell_type": "code",
      "execution_count": 10,
      "metadata": {
        "id": "NzJeaegJ81Uw"
      },
      "outputs": [
        {
          "name": "stderr",
          "output_type": "stream",
          "text": [
            "                                                                                \r"
          ]
        },
        {
          "data": {
            "text/plain": [
              "4898431"
            ]
          },
          "execution_count": 10,
          "metadata": {},
          "output_type": "execute_result"
        }
      ],
      "source": [
        "rdd.count()"
      ]
    },
    {
      "cell_type": "markdown",
      "metadata": {
        "id": "GgSYUgiQ81Ux"
      },
      "source": [
        "## Question 3: Calculate the ratio of `normal` connections\n"
      ]
    },
    {
      "cell_type": "code",
      "execution_count": 13,
      "metadata": {
        "id": "4_hnOy9V81Uy"
      },
      "outputs": [
        {
          "name": "stderr",
          "output_type": "stream",
          "text": [
            "[Stage 17:==================================>                      (6 + 4) / 10]\r"
          ]
        },
        {
          "name": "stdout",
          "output_type": "stream",
          "text": [
            " the ratio of normal connection is 19.86 %\n"
          ]
        },
        {
          "name": "stderr",
          "output_type": "stream",
          "text": [
            "                                                                                \r"
          ]
        }
      ],
      "source": [
        "Normal_rdd = rdd.filter(lambda line: 'normal' in line)\n",
        "\n",
        "ratio = Normal_rdd.count() / rdd.count()\n",
        "\n",
        "print(\" the ratio of normal connection is {} %\".format(round(ratio,4)*100))"
      ]
    },
    {
      "cell_type": "markdown",
      "metadata": {
        "id": "rxwUmsgvTF-f"
      },
      "source": [
        "## Question 4: Get the list of labels\n"
      ]
    },
    {
      "cell_type": "code",
      "execution_count": 15,
      "metadata": {
        "id": "wW-9rzraS8O3"
      },
      "outputs": [
        {
          "name": "stderr",
          "output_type": "stream",
          "text": [
            "                                                                                \r"
          ]
        },
        {
          "data": {
            "text/plain": [
              "['neptune.',\n",
              " 'loadmodule.',\n",
              " 'warezclient.',\n",
              " 'pod.',\n",
              " 'smurf.',\n",
              " 'nmap.',\n",
              " 'spy.',\n",
              " 'back.',\n",
              " 'teardrop.',\n",
              " 'ipsweep.',\n",
              " 'multihop.',\n",
              " 'phf.',\n",
              " 'ftp_write.',\n",
              " 'guess_passwd.',\n",
              " 'normal.',\n",
              " 'land.',\n",
              " 'satan.',\n",
              " 'imap.',\n",
              " 'portsweep.',\n",
              " 'warezmaster.',\n",
              " 'rootkit.',\n",
              " 'buffer_overflow.',\n",
              " 'perl.']"
            ]
          },
          "execution_count": 15,
          "metadata": {},
          "output_type": "execute_result"
        }
      ],
      "source": [
        "Split_rdd = rdd.map(lambda line: line.split(\",\"))\n",
        "\n",
        "label_rdd = Split_rdd.map(lambda item: item[-1]).distinct()\n",
        "\n",
        "label_rdd.collect()\n",
        "\n"
      ]
    },
    {
      "cell_type": "markdown",
      "metadata": {
        "id": "EEpDGLMfTrJn"
      },
      "source": [
        "## Question 5: Count the number of connections for each label"
      ]
    },
    {
      "cell_type": "code",
      "execution_count": 16,
      "metadata": {
        "id": "AqrKWeRfTQT_"
      },
      "outputs": [
        {
          "name": "stderr",
          "output_type": "stream",
          "text": [
            "                                                                                \r"
          ]
        }
      ],
      "source": [
        "rdd.filter(lambda line: 'neptune.' in line).count()\n",
        "\n",
        "def LabelCount_func(items):\n",
        "    Labels_Count = []\n",
        "\n",
        "    for i in items:\n",
        "        Labels_Count.append(rdd.filter(lambda line: i in line).count())\n",
        "    return Labels_Count\n",
        "\n"
      ]
    },
    {
      "cell_type": "code",
      "execution_count": 18,
      "metadata": {},
      "outputs": [
        {
          "name": "stderr",
          "output_type": "stream",
          "text": [
            "[Stage 120:============================================>           (8 + 2) / 10]\r"
          ]
        },
        {
          "name": "stdout",
          "output_type": "stream",
          "text": [
            "CPU times: user 209 ms, sys: 65.2 ms, total: 274 ms\n",
            "Wall time: 41.9 s\n"
          ]
        },
        {
          "name": "stderr",
          "output_type": "stream",
          "text": [
            "                                                                                \r"
          ]
        }
      ],
      "source": [
        "%%time\n",
        "summary_labels = LabelCount_func(label_rdd.collect())"
      ]
    },
    {
      "cell_type": "code",
      "execution_count": 20,
      "metadata": {},
      "outputs": [
        {
          "name": "stdout",
          "output_type": "stream",
          "text": [
            "None\n"
          ]
        }
      ],
      "source": []
    },
    {
      "cell_type": "code",
      "execution_count": 19,
      "metadata": {},
      "outputs": [
        {
          "name": "stdout",
          "output_type": "stream",
          "text": [
            "CPU times: user 6.01 ms, sys: 3.18 ms, total: 9.19 ms\n",
            "Wall time: 23 ms\n"
          ]
        }
      ],
      "source": [
        "%%time\n",
        "label_rdd_KV = Split_rdd.map(lambda x : (x[-1],1))\n",
        "label_rdd_reduce = label_rdd_KV.reduceByKey(lambda a,b : a+b)"
      ]
    },
    {
      "cell_type": "code",
      "execution_count": 21,
      "metadata": {},
      "outputs": [
        {
          "name": "stderr",
          "output_type": "stream",
          "text": [
            "                                                                                \r"
          ]
        },
        {
          "data": {
            "text/html": [
              "<div>\n",
              "<style scoped>\n",
              "    .dataframe tbody tr th:only-of-type {\n",
              "        vertical-align: middle;\n",
              "    }\n",
              "\n",
              "    .dataframe tbody tr th {\n",
              "        vertical-align: top;\n",
              "    }\n",
              "\n",
              "    .dataframe thead th {\n",
              "        text-align: right;\n",
              "    }\n",
              "</style>\n",
              "<table border=\"1\" class=\"dataframe\">\n",
              "  <thead>\n",
              "    <tr style=\"text-align: right;\">\n",
              "      <th></th>\n",
              "      <th>Label</th>\n",
              "      <th>Count</th>\n",
              "    </tr>\n",
              "  </thead>\n",
              "  <tbody>\n",
              "    <tr>\n",
              "      <th>4</th>\n",
              "      <td>smurf.</td>\n",
              "      <td>2807886</td>\n",
              "    </tr>\n",
              "    <tr>\n",
              "      <th>0</th>\n",
              "      <td>neptune.</td>\n",
              "      <td>1072017</td>\n",
              "    </tr>\n",
              "    <tr>\n",
              "      <th>14</th>\n",
              "      <td>normal.</td>\n",
              "      <td>972781</td>\n",
              "    </tr>\n",
              "    <tr>\n",
              "      <th>16</th>\n",
              "      <td>satan.</td>\n",
              "      <td>15892</td>\n",
              "    </tr>\n",
              "    <tr>\n",
              "      <th>9</th>\n",
              "      <td>ipsweep.</td>\n",
              "      <td>12481</td>\n",
              "    </tr>\n",
              "    <tr>\n",
              "      <th>18</th>\n",
              "      <td>portsweep.</td>\n",
              "      <td>10413</td>\n",
              "    </tr>\n",
              "    <tr>\n",
              "      <th>5</th>\n",
              "      <td>nmap.</td>\n",
              "      <td>2316</td>\n",
              "    </tr>\n",
              "    <tr>\n",
              "      <th>7</th>\n",
              "      <td>back.</td>\n",
              "      <td>2203</td>\n",
              "    </tr>\n",
              "    <tr>\n",
              "      <th>2</th>\n",
              "      <td>warezclient.</td>\n",
              "      <td>1020</td>\n",
              "    </tr>\n",
              "    <tr>\n",
              "      <th>8</th>\n",
              "      <td>teardrop.</td>\n",
              "      <td>979</td>\n",
              "    </tr>\n",
              "    <tr>\n",
              "      <th>3</th>\n",
              "      <td>pod.</td>\n",
              "      <td>264</td>\n",
              "    </tr>\n",
              "    <tr>\n",
              "      <th>13</th>\n",
              "      <td>guess_passwd.</td>\n",
              "      <td>53</td>\n",
              "    </tr>\n",
              "    <tr>\n",
              "      <th>21</th>\n",
              "      <td>buffer_overflow.</td>\n",
              "      <td>30</td>\n",
              "    </tr>\n",
              "    <tr>\n",
              "      <th>15</th>\n",
              "      <td>land.</td>\n",
              "      <td>21</td>\n",
              "    </tr>\n",
              "    <tr>\n",
              "      <th>19</th>\n",
              "      <td>warezmaster.</td>\n",
              "      <td>20</td>\n",
              "    </tr>\n",
              "    <tr>\n",
              "      <th>17</th>\n",
              "      <td>imap.</td>\n",
              "      <td>12</td>\n",
              "    </tr>\n",
              "    <tr>\n",
              "      <th>20</th>\n",
              "      <td>rootkit.</td>\n",
              "      <td>10</td>\n",
              "    </tr>\n",
              "    <tr>\n",
              "      <th>1</th>\n",
              "      <td>loadmodule.</td>\n",
              "      <td>9</td>\n",
              "    </tr>\n",
              "    <tr>\n",
              "      <th>12</th>\n",
              "      <td>ftp_write.</td>\n",
              "      <td>8</td>\n",
              "    </tr>\n",
              "    <tr>\n",
              "      <th>10</th>\n",
              "      <td>multihop.</td>\n",
              "      <td>7</td>\n",
              "    </tr>\n",
              "    <tr>\n",
              "      <th>11</th>\n",
              "      <td>phf.</td>\n",
              "      <td>4</td>\n",
              "    </tr>\n",
              "    <tr>\n",
              "      <th>22</th>\n",
              "      <td>perl.</td>\n",
              "      <td>3</td>\n",
              "    </tr>\n",
              "    <tr>\n",
              "      <th>6</th>\n",
              "      <td>spy.</td>\n",
              "      <td>2</td>\n",
              "    </tr>\n",
              "  </tbody>\n",
              "</table>\n",
              "</div>"
            ],
            "text/plain": [
              "               Label    Count\n",
              "4             smurf.  2807886\n",
              "0           neptune.  1072017\n",
              "14           normal.   972781\n",
              "16            satan.    15892\n",
              "9           ipsweep.    12481\n",
              "18        portsweep.    10413\n",
              "5              nmap.     2316\n",
              "7              back.     2203\n",
              "2       warezclient.     1020\n",
              "8          teardrop.      979\n",
              "3               pod.      264\n",
              "13     guess_passwd.       53\n",
              "21  buffer_overflow.       30\n",
              "15             land.       21\n",
              "19      warezmaster.       20\n",
              "17             imap.       12\n",
              "20          rootkit.       10\n",
              "1        loadmodule.        9\n",
              "12        ftp_write.        8\n",
              "10         multihop.        7\n",
              "11              phf.        4\n",
              "22             perl.        3\n",
              "6               spy.        2"
            ]
          },
          "execution_count": 21,
          "metadata": {},
          "output_type": "execute_result"
        }
      ],
      "source": [
        "import pandas as pd\n",
        "\n",
        "Keys = label_rdd_reduce.keys().collect()\n",
        "values = label_rdd_reduce.values().collect()\n",
        "\n",
        "\n",
        "DF_labels_KV = pd.DataFrame({\n",
        "    'Label': Keys,\n",
        "    'Count': values\n",
        "})\n",
        "\n",
        "DF_labels_KV.sort_values(by=\"Count\", ascending=False)"
      ]
    },
    {
      "cell_type": "code",
      "execution_count": null,
      "metadata": {},
      "outputs": [],
      "source": []
    },
    {
      "cell_type": "markdown",
      "metadata": {
        "id": "5y4bqXJqTh1I"
      },
      "source": [
        "## Question 6: Get the connection type with successful `root_shell` connections to servers, where the number of data bytes from source (`src_bytes`) is 500 times more than from server (`dst_bytes`)"
      ]
    },
    {
      "cell_type": "code",
      "execution_count": 26,
      "metadata": {
        "id": "rbWpcyidTgxr"
      },
      "outputs": [
        {
          "name": "stderr",
          "output_type": "stream",
          "text": [
            "                                                                                \r"
          ]
        },
        {
          "data": {
            "text/plain": [
              "[('tcp', '353', '759161'),\n",
              " ('tcp', '433', '1524348'),\n",
              " ('tcp', '296', '507534'),\n",
              " ('tcp', '296', '507534'),\n",
              " ('tcp', '246', '866032'),\n",
              " ('tcp', '317', '394616'),\n",
              " ('tcp', '262', '744605'),\n",
              " ('tcp', '173', '744605'),\n",
              " ('tcp', '224', '2776333'),\n",
              " ('tcp', '262', '744605'),\n",
              " ('tcp', '0', '2072'),\n",
              " ('tcp', '351', '759161'),\n",
              " ('tcp', '1794', '3851730'),\n",
              " ('tcp', '465', '320362'),\n",
              " ('tcp', '0', '2072'),\n",
              " ('tcp', '0', '2072'),\n",
              " ('tcp', '296', '507534'),\n",
              " ('tcp', '266', '507534'),\n",
              " ('tcp', '255', '574784'),\n",
              " ('tcp', '0', '2072')]"
            ]
          },
          "execution_count": 26,
          "metadata": {},
          "output_type": "execute_result"
        }
      ],
      "source": [
        "Split_rdd.filter(lambda x: x[13] == '1')\\\n",
        "    .map(lambda x: (x[1], x[4], x[5]))\\\n",
        "    .filter(lambda x: int(x[2]) > int(x[1])* 500)\\\n",
        "    .collect()"
      ]
    },
    {
      "cell_type": "markdown",
      "metadata": {
        "id": "3v5KLd-BU2Yw"
      },
      "source": [
        "## Question 7:  Get the list of `Protocols`that are `normal` and `vulnerable to attacks`, where there is NOT `guest login` to the destination addresses\n"
      ]
    },
    {
      "cell_type": "code",
      "execution_count": 31,
      "metadata": {
        "id": "UqmdBsStU24_"
      },
      "outputs": [
        {
          "name": "stderr",
          "output_type": "stream",
          "text": [
            "/var/folders/0w/_k96360175sff4w3b2nb6ts40000gn/T/ipykernel_1172/2383834916.py:20: FutureWarning: The frame.append method is deprecated and will be removed from pandas in a future version. Use pandas.concat instead.\n",
            "  results = normal_KeyValue.append(attack_KeyValue)\n"
          ]
        },
        {
          "data": {
            "text/html": [
              "<div>\n",
              "<style scoped>\n",
              "    .dataframe tbody tr th:only-of-type {\n",
              "        vertical-align: middle;\n",
              "    }\n",
              "\n",
              "    .dataframe tbody tr th {\n",
              "        vertical-align: top;\n",
              "    }\n",
              "\n",
              "    .dataframe thead th {\n",
              "        text-align: right;\n",
              "    }\n",
              "</style>\n",
              "<table border=\"1\" class=\"dataframe\">\n",
              "  <thead>\n",
              "    <tr style=\"text-align: right;\">\n",
              "      <th></th>\n",
              "      <th>label</th>\n",
              "      <th>State</th>\n",
              "      <th>Count</th>\n",
              "    </tr>\n",
              "  </thead>\n",
              "  <tbody>\n",
              "    <tr>\n",
              "      <th>1</th>\n",
              "      <td>udp</td>\n",
              "      <td>normal</td>\n",
              "      <td>191348</td>\n",
              "    </tr>\n",
              "    <tr>\n",
              "      <th>1</th>\n",
              "      <td>udp</td>\n",
              "      <td>attack</td>\n",
              "      <td>2940</td>\n",
              "    </tr>\n",
              "    <tr>\n",
              "      <th>2</th>\n",
              "      <td>tcp</td>\n",
              "      <td>normal</td>\n",
              "      <td>764894</td>\n",
              "    </tr>\n",
              "    <tr>\n",
              "      <th>2</th>\n",
              "      <td>tcp</td>\n",
              "      <td>attack</td>\n",
              "      <td>1101613</td>\n",
              "    </tr>\n",
              "    <tr>\n",
              "      <th>0</th>\n",
              "      <td>icmp</td>\n",
              "      <td>normal</td>\n",
              "      <td>12763</td>\n",
              "    </tr>\n",
              "    <tr>\n",
              "      <th>0</th>\n",
              "      <td>icmp</td>\n",
              "      <td>attack</td>\n",
              "      <td>2820782</td>\n",
              "    </tr>\n",
              "  </tbody>\n",
              "</table>\n",
              "</div>"
            ],
            "text/plain": [
              "  label   State    Count\n",
              "1   udp  normal   191348\n",
              "1   udp  attack     2940\n",
              "2   tcp  normal   764894\n",
              "2   tcp  attack  1101613\n",
              "0  icmp  normal    12763\n",
              "0  icmp  attack  2820782"
            ]
          },
          "execution_count": 31,
          "metadata": {},
          "output_type": "execute_result"
        }
      ],
      "source": [
        "normal_protocols_rdd = Split_rdd.filter(lambda line: \"normal\" in line[-1] and line[21] != '1')\\\n",
        "                        .map(lambda line: (line[1],1)).reduceByKey(lambda a,b: a+b)\n",
        "\n",
        "attack_protocols_rdd = Split_rdd.filter(lambda line: \"normal\" not in line[-1] and line[21] != '1')\\\n",
        "                        .map(lambda line: (line[1],1)).reduceByKey(lambda a,b: a+b)\n",
        "\n",
        "normal_KeyValue = pd.DataFrame({\n",
        "    'label': normal_protocols_rdd.keys().collect(),\n",
        "    'State': 'normal',\n",
        "    'Count': normal_protocols_rdd.values().collect()\n",
        "})\n",
        "\n",
        "attack_KeyValue = pd.DataFrame({\n",
        "    'label': attack_protocols_rdd.keys().collect(),\n",
        "    'State': 'attack',\n",
        "    'Count': attack_protocols_rdd.values().collect()\n",
        "})\n",
        "\n",
        "\n",
        "results = normal_KeyValue.append(attack_KeyValue)\n",
        "\n",
        "results.sort_values(by='label', ascending=False)"
      ]
    },
    {
      "cell_type": "markdown",
      "metadata": {
        "id": "f4EVFeiDU4tv"
      },
      "source": [
        "## Question 8: Get a summary statistics for the sum of `tcp` connections to the same destination IP address (hint: `protocol_type` and `dst_host_count` features)"
      ]
    },
    {
      "cell_type": "code",
      "execution_count": 33,
      "metadata": {
        "id": "dR4X8MlDU4cn"
      },
      "outputs": [
        {
          "name": "stderr",
          "output_type": "stream",
          "text": [
            "[Stage 201:============================================>           (8 + 2) / 10]\r"
          ]
        },
        {
          "name": "stdout",
          "output_type": "stream",
          "text": [
            "[201.752, 90.726, 0.0, 255.0]\n"
          ]
        },
        {
          "name": "stderr",
          "output_type": "stream",
          "text": [
            "                                                                                \r"
          ]
        }
      ],
      "source": [
        "# Source: https://spark.apache.org/docs/latest/mllib-statistics.html\n",
        "from pyspark.mllib.stat import Statistics\n",
        "from math import sqrt\n",
        "\n",
        "summary = Statistics.colStats(Split_rdd.filter(lambda line: line[1] == 'tcp').map(lambda line: [int(line[31])] ))\n",
        "\n",
        "tcp_mean = round(float(summary.mean()),3)\n",
        "tcp_std = round(float(sqrt(summary.variance())),3)\n",
        "tcp_min = round(float(summary.min()),3)\n",
        "tcp_max = round(float(summary.max()),3)\n",
        "\n",
        "print([tcp_mean, tcp_std, tcp_min, tcp_max])\n",
        "\n",
        "\n",
        "\n"
      ]
    },
    {
      "cell_type": "markdown",
      "metadata": {
        "id": "vJaQimNaW-_5"
      },
      "source": [
        "## [challenge] Question 9: Filter the number of `icmp`-based attacks for each `service`"
      ]
    },
    {
      "cell_type": "code",
      "execution_count": null,
      "metadata": {
        "id": "6LQg0EjLRMvw"
      },
      "outputs": [],
      "source": []
    }
  ],
  "metadata": {
    "colab": {
      "collapsed_sections": [],
      "name": "KDDCup_Analysis_(RDD).ipynb",
      "provenance": []
    },
    "kernelspec": {
      "display_name": "Python 3",
      "language": "python",
      "name": "python3"
    },
    "language_info": {
      "codemirror_mode": {
        "name": "ipython",
        "version": 3
      },
      "file_extension": ".py",
      "mimetype": "text/x-python",
      "name": "python",
      "nbconvert_exporter": "python",
      "pygments_lexer": "ipython3",
      "version": "3.9.13"
    }
  },
  "nbformat": 4,
  "nbformat_minor": 0
}
