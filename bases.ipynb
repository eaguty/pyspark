{
 "cells": [
  {
   "cell_type": "code",
   "execution_count": 1,
   "id": "97a345ae",
   "metadata": {},
   "outputs": [
    {
     "name": "stdout",
     "output_type": "stream",
     "text": [
      "Requirement already satisfied: pyspark in /Users/Adrian/opt/anaconda3/lib/python3.9/site-packages (3.3.2)\n",
      "Requirement already satisfied: py4j==0.10.9.5 in /Users/Adrian/opt/anaconda3/lib/python3.9/site-packages (from pyspark) (0.10.9.5)\n",
      "Note: you may need to restart the kernel to use updated packages.\n"
     ]
    }
   ],
   "source": [
    "pip install pyspark\n"
   ]
  },
  {
   "cell_type": "code",
   "execution_count": 2,
   "id": "a1e59a84",
   "metadata": {},
   "outputs": [],
   "source": [
    "from pyspark import SparkContext, SparkConf"
   ]
  },
  {
   "cell_type": "code",
   "execution_count": 3,
   "id": "95ec3209",
   "metadata": {},
   "outputs": [
    {
     "name": "stdout",
     "output_type": "stream",
     "text": [
      "23/03/12 11:28:12 WARN Utils: Your hostname, Adrian-Laptop.local resolves to a loopback address: 127.0.0.1; using 192.168.100.19 instead (on interface en0)\n",
      "23/03/12 11:28:12 WARN Utils: Set SPARK_LOCAL_IP if you need to bind to another address\n"
     ]
    },
    {
     "name": "stderr",
     "output_type": "stream",
     "text": [
      "Setting default log level to \"WARN\".\n",
      "To adjust logging level use sc.setLogLevel(newLevel). For SparkR, use setLogLevel(newLevel).\n"
     ]
    },
    {
     "name": "stdout",
     "output_type": "stream",
     "text": [
      "23/03/12 11:28:13 WARN NativeCodeLoader: Unable to load native-hadoop library for your platform... using builtin-java classes where applicable\n",
      "23/03/12 11:28:14 WARN Utils: Service 'SparkUI' could not bind on port 4040. Attempting port 4041.\n"
     ]
    }
   ],
   "source": [
    "# Initialiazing Spark\n",
    "conf = SparkConf().setAppName(\"FirstApp\").setMaster(\"local[2]\")\n",
    "sc = SparkContext(conf=conf)\n"
   ]
  },
  {
   "cell_type": "code",
   "execution_count": 4,
   "id": "1899b324",
   "metadata": {},
   "outputs": [
    {
     "name": "stdout",
     "output_type": "stream",
     "text": [
      "<SparkContext master=local[2] appName=FirstApp>\n"
     ]
    }
   ],
   "source": [
    "print(sc)"
   ]
  },
  {
   "cell_type": "code",
   "execution_count": 5,
   "id": "cbbb732a",
   "metadata": {},
   "outputs": [
    {
     "data": {
      "text/plain": [
       "2"
      ]
     },
     "execution_count": 5,
     "metadata": {},
     "output_type": "execute_result"
    }
   ],
   "source": [
    "sc.defaultParallelism\n"
   ]
  },
  {
   "cell_type": "code",
   "execution_count": 6,
   "id": "5b9bcb21",
   "metadata": {},
   "outputs": [
    {
     "name": "stdout",
     "output_type": "stream",
     "text": [
      "[33, 0, 3, 28, 24, 35, 29, 22, 9, 11]\n"
     ]
    }
   ],
   "source": [
    "import random\n",
    "randomlist = random.sample(range(0, 40),10)\n",
    "print(randomlist)"
   ]
  },
  {
   "cell_type": "code",
   "execution_count": 7,
   "id": "41f8d9ed",
   "metadata": {},
   "outputs": [],
   "source": [
    "rdd1 = sc.parallelize(randomlist, 4)"
   ]
  },
  {
   "cell_type": "code",
   "execution_count": 15,
   "id": "f0bdf8a3",
   "metadata": {},
   "outputs": [
    {
     "name": "stdout",
     "output_type": "stream",
     "text": [
      "4\n"
     ]
    },
    {
     "data": {
      "text/plain": [
       "[[33, 0], [3, 28], [24, 35], [29, 22, 9, 11]]"
      ]
     },
     "execution_count": 15,
     "metadata": {},
     "output_type": "execute_result"
    }
   ],
   "source": [
    "print(rdd1.getNumPartitions())\n",
    "rdd1.glom().collect()"
   ]
  },
  {
   "cell_type": "code",
   "execution_count": 13,
   "id": "e0bad4d4",
   "metadata": {},
   "outputs": [
    {
     "data": {
      "text/plain": [
       "[[33, 0], [3, 28]]"
      ]
     },
     "execution_count": 13,
     "metadata": {},
     "output_type": "execute_result"
    }
   ],
   "source": [
    "rdd1.glom().collect()\n",
    "rdd1.glom().take(2)"
   ]
  },
  {
   "cell_type": "code",
   "execution_count": 14,
   "id": "849d78e3",
   "metadata": {},
   "outputs": [
    {
     "data": {
      "text/plain": [
       "[29, 22, 9, 11]"
      ]
     },
     "execution_count": 14,
     "metadata": {},
     "output_type": "execute_result"
    }
   ],
   "source": [
    "rdd1.glom().collect()[3]"
   ]
  },
  {
   "cell_type": "code",
   "execution_count": 16,
   "id": "3fb93dcc",
   "metadata": {},
   "outputs": [
    {
     "data": {
      "text/plain": [
       "10"
      ]
     },
     "execution_count": 16,
     "metadata": {},
     "output_type": "execute_result"
    }
   ],
   "source": [
    "rdd1.count()"
   ]
  },
  {
   "cell_type": "code",
   "execution_count": 17,
   "id": "b61e39fb",
   "metadata": {},
   "outputs": [
    {
     "data": {
      "text/plain": [
       "33"
      ]
     },
     "execution_count": 17,
     "metadata": {},
     "output_type": "execute_result"
    }
   ],
   "source": [
    "rdd1.first()"
   ]
  },
  {
   "cell_type": "code",
   "execution_count": 18,
   "id": "d4d286b8",
   "metadata": {},
   "outputs": [
    {
     "data": {
      "text/plain": [
       "[35, 33]"
      ]
     },
     "execution_count": 18,
     "metadata": {},
     "output_type": "execute_result"
    }
   ],
   "source": [
    "rdd1.top(2)"
   ]
  },
  {
   "cell_type": "code",
   "execution_count": 22,
   "id": "2b7ebe94",
   "metadata": {},
   "outputs": [
    {
     "data": {
      "text/plain": [
       "[0, 28, 24, 33, 29, 9, 22, 3, 35, 11]"
      ]
     },
     "execution_count": 22,
     "metadata": {},
     "output_type": "execute_result"
    }
   ],
   "source": [
    "rdd1.distinct().collect()"
   ]
  },
  {
   "cell_type": "code",
   "execution_count": 23,
   "id": "5d759a71",
   "metadata": {},
   "outputs": [],
   "source": [
    "def myfunc(item):\n",
    "    return ( item+1 ) * 3"
   ]
  },
  {
   "cell_type": "code",
   "execution_count": 29,
   "id": "ddc862ea",
   "metadata": {},
   "outputs": [],
   "source": [
    "rdd_map = rdd1.map(lambda item: (item +1) *3)\n",
    "\n"
   ]
  },
  {
   "cell_type": "code",
   "execution_count": 30,
   "id": "bd5961e3",
   "metadata": {},
   "outputs": [
    {
     "data": {
      "text/plain": [
       "[102, 3, 12, 87, 75, 108, 90, 69, 30, 36]"
      ]
     },
     "execution_count": 30,
     "metadata": {},
     "output_type": "execute_result"
    }
   ],
   "source": [
    "rdd_map.collect()"
   ]
  },
  {
   "cell_type": "code",
   "execution_count": 42,
   "id": "6bba1991",
   "metadata": {},
   "outputs": [
    {
     "data": {
      "text/plain": [
       "[33, 35]"
      ]
     },
     "execution_count": 42,
     "metadata": {},
     "output_type": "execute_result"
    }
   ],
   "source": [
    "rdd_filter = rdd1.filter(lambda x: x >30)\n",
    "rdd_filter.collect()"
   ]
  },
  {
   "cell_type": "code",
   "execution_count": 43,
   "id": "a385712b",
   "metadata": {},
   "outputs": [],
   "source": [
    "def glom_rdd():\n",
    "    rdd_filter.glom().collect()\n",
    "\n",
    "glom_rdd()"
   ]
  },
  {
   "cell_type": "code",
   "execution_count": 34,
   "id": "2db6e9e6",
   "metadata": {},
   "outputs": [
    {
     "data": {
      "text/plain": [
       "2"
      ]
     },
     "execution_count": 34,
     "metadata": {},
     "output_type": "execute_result"
    }
   ],
   "source": [
    "rdd_filter.count()"
   ]
  },
  {
   "cell_type": "code",
   "execution_count": 40,
   "id": "9fd49662",
   "metadata": {},
   "outputs": [
    {
     "data": {
      "text/plain": [
       "[[33], [], [35], []]"
      ]
     },
     "execution_count": 40,
     "metadata": {},
     "output_type": "execute_result"
    }
   ],
   "source": [
    "rdd_filter.repartition(1)\n",
    "rdd_filter.glom().collect()"
   ]
  },
  {
   "cell_type": "code",
   "execution_count": 37,
   "id": "398b44e2",
   "metadata": {},
   "outputs": [
    {
     "data": {
      "text/plain": [
       "4"
      ]
     },
     "execution_count": 37,
     "metadata": {},
     "output_type": "execute_result"
    }
   ],
   "source": [
    "rdd_filter.getNumPartitions()"
   ]
  },
  {
   "cell_type": "code",
   "execution_count": 44,
   "id": "5dd41cf5",
   "metadata": {},
   "outputs": [
    {
     "data": {
      "text/plain": [
       "[35, 38, 2, 5, 5, 8, 30, 33, 26, 29, 37, 40, 31, 34, 24, 27, 11, 14, 13, 16]"
      ]
     },
     "execution_count": 44,
     "metadata": {},
     "output_type": "execute_result"
    }
   ],
   "source": [
    "rdd_flatmap = rdd1.flatMap(lambda x: [x+2, x+5])\n",
    "rdd_flatmap.collect()"
   ]
  },
  {
   "cell_type": "code",
   "execution_count": 45,
   "id": "2abe510b",
   "metadata": {},
   "outputs": [
    {
     "data": {
      "text/plain": [
       "458"
      ]
     },
     "execution_count": 45,
     "metadata": {},
     "output_type": "execute_result"
    }
   ],
   "source": [
    "rdd_flatmap.reduce(lambda x,y: x+y)"
   ]
  },
  {
   "cell_type": "code",
   "execution_count": 46,
   "id": "32a95650",
   "metadata": {},
   "outputs": [
    {
     "name": "stdout",
     "output_type": "stream",
     "text": [
      "35 0 19.4 12.03 194\n"
     ]
    }
   ],
   "source": [
    "print( rdd1.max(), rdd1.min(), rdd1.mean(), round(rdd1.stdev(),2), rdd1.sum() )"
   ]
  },
  {
   "cell_type": "code",
   "execution_count": 50,
   "id": "164bac78",
   "metadata": {},
   "outputs": [
    {
     "data": {
      "text/plain": [
       "[[33, 0], [3, 28], [24, 35], [29, 22, 9, 11]]"
      ]
     },
     "execution_count": 50,
     "metadata": {},
     "output_type": "execute_result"
    }
   ],
   "source": [
    "rdd1.glom().collect()"
   ]
  },
  {
   "cell_type": "code",
   "execution_count": 48,
   "id": "88165b86",
   "metadata": {},
   "outputs": [
    {
     "data": {
      "text/plain": [
       "[33, 31, 59, 71]"
      ]
     },
     "execution_count": 48,
     "metadata": {},
     "output_type": "execute_result"
    }
   ],
   "source": [
    "def myfunc2(partition):\n",
    "    sum = 0\n",
    "    for item in partition:\n",
    "        sum = sum + item\n",
    "    yield sum\n",
    "\n",
    "rdd1.mapPartitions(myfunc2).collect()"
   ]
  },
  {
   "cell_type": "code",
   "execution_count": null,
   "id": "bb278525",
   "metadata": {},
   "outputs": [],
   "source": []
  }
 ],
 "metadata": {
  "kernelspec": {
   "display_name": "Python 3 (ipykernel)",
   "language": "python",
   "name": "python3"
  },
  "language_info": {
   "codemirror_mode": {
    "name": "ipython",
    "version": 3
   },
   "file_extension": ".py",
   "mimetype": "text/x-python",
   "name": "python",
   "nbconvert_exporter": "python",
   "pygments_lexer": "ipython3",
   "version": "3.9.13"
  }
 },
 "nbformat": 4,
 "nbformat_minor": 5
}
