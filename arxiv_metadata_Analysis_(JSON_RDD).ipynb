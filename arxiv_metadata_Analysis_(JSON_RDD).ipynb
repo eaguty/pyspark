{
 "cells": [
  {
   "cell_type": "markdown",
   "metadata": {
    "id": "9nrTNalW81Uo"
   },
   "source": [
    "# **Arxiv metadata Analytics with PySpark RDD: JSON case study**\n",
    "\n",
    "### Udemy Course: Best Hands-on Big Data Practices and Use Cases using PySpark\n",
    "\n",
    "### Author: Amin Karami (PhD, FHEA)\n",
    "#### email: amin.karami@ymail.com"
   ]
  },
  {
   "cell_type": "code",
   "execution_count": 1,
   "metadata": {
    "id": "ghTJybh281Ur"
   },
   "outputs": [
    {
     "name": "stdout",
     "output_type": "stream",
     "text": [
      "Requirement already satisfied: pyspark in /Users/Adrian/opt/anaconda3/lib/python3.9/site-packages (3.3.2)\n",
      "Requirement already satisfied: py4j==0.10.9.5 in /Users/Adrian/opt/anaconda3/lib/python3.9/site-packages (from pyspark) (0.10.9.5)\n"
     ]
    }
   ],
   "source": [
    "########## ONLY in Colab ##########\n",
    "!pip3 install pyspark\n",
    "########## ONLY in Colab ##########"
   ]
  },
  {
   "cell_type": "code",
   "execution_count": 2,
   "metadata": {
    "id": "06d5GLeN81Ut"
   },
   "outputs": [
    {
     "name": "stdout",
     "output_type": "stream",
     "text": [
      "23/03/19 20:33:02 WARN Utils: Your hostname, Adrian-Laptop.local resolves to a loopback address: 127.0.0.1; using 192.168.100.19 instead (on interface en0)\n",
      "23/03/19 20:33:02 WARN Utils: Set SPARK_LOCAL_IP if you need to bind to another address\n"
     ]
    },
    {
     "name": "stderr",
     "output_type": "stream",
     "text": [
      "Setting default log level to \"WARN\".\n",
      "To adjust logging level use sc.setLogLevel(newLevel). For SparkR, use setLogLevel(newLevel).\n"
     ]
    },
    {
     "name": "stdout",
     "output_type": "stream",
     "text": [
      "23/03/19 20:33:03 WARN NativeCodeLoader: Unable to load native-hadoop library for your platform... using builtin-java classes where applicable\n",
      "23/03/19 20:33:04 WARN Utils: Service 'SparkUI' could not bind on port 4040. Attempting port 4041.\n",
      "<SparkContext master=local[*] appName=Archive_Pyspark>\n",
      "ready to go\n"
     ]
    }
   ],
   "source": [
    "# Initializing Spark\n",
    "from pyspark import SparkContext, SparkConf\n",
    "\n",
    "conf1 = SparkConf().setAppName(\"Archive_Pyspark\").setMaster(\"local[*]\")\n",
    "sc = SparkContext(conf=conf1)\n",
    "\n",
    "print(sc)\n",
    "\n",
    "print(\"ready to go\")"
   ]
  },
  {
   "cell_type": "code",
   "execution_count": 3,
   "metadata": {
    "id": "UGorHKN581Uu"
   },
   "outputs": [
    {
     "data": {
      "text/plain": [
       "PythonRDD[2] at RDD at PythonRDD.scala:53"
      ]
     },
     "execution_count": 3,
     "metadata": {},
     "output_type": "execute_result"
    }
   ],
   "source": [
    "# Read and Load Data to Spark\n",
    "# Data source: https://www.kaggle.com/Cornell-University/arxiv/version/62\n",
    "import json\n",
    "\n",
    "rdd_json = sc.textFile(\"data.json\", 100)\n",
    "rdd = rdd_json.map(lambda x: json.loads(x))\n",
    "\n",
    "rdd.persist()\n",
    "\n"
   ]
  },
  {
   "cell_type": "code",
   "execution_count": null,
   "metadata": {
    "id": "6O_dV30S81Uu"
   },
   "outputs": [],
   "source": [
    "# Check the number of parallelism and partitions:\n",
    "print(sc.defaultParallelism)\n",
    "print(rdd.getNumPartitions())"
   ]
  },
  {
   "cell_type": "code",
   "execution_count": null,
   "metadata": {},
   "outputs": [],
   "source": [
    "import findspark\n",
    "findspark.init()\n",
    "\n"
   ]
  },
  {
   "cell_type": "markdown",
   "metadata": {
    "id": "uBgW8XMl81Uv"
   },
   "source": [
    "## Question 1: Count elements"
   ]
  },
  {
   "cell_type": "code",
   "execution_count": null,
   "metadata": {
    "id": "NzJeaegJ81Uw"
   },
   "outputs": [],
   "source": [
    "rdd.count()"
   ]
  },
  {
   "cell_type": "code",
   "execution_count": null,
   "metadata": {},
   "outputs": [],
   "source": []
  },
  {
   "cell_type": "markdown",
   "metadata": {
    "id": "zl7nmy6S81Uw"
   },
   "source": [
    "## Question 2: Get the first two records\n"
   ]
  },
  {
   "cell_type": "code",
   "execution_count": null,
   "metadata": {
    "id": "HG1ypizS81Ux"
   },
   "outputs": [],
   "source": [
    "rdd.take(2)"
   ]
  },
  {
   "cell_type": "markdown",
   "metadata": {
    "id": "GgSYUgiQ81Ux"
   },
   "source": [
    "## Question 3: Get all attributes\n"
   ]
  },
  {
   "cell_type": "code",
   "execution_count": null,
   "metadata": {
    "id": "4_hnOy9V81Uy"
   },
   "outputs": [],
   "source": [
    "rdd.flatMap(lambda x: x.key()).distinct().collect()"
   ]
  },
  {
   "cell_type": "markdown",
   "metadata": {
    "id": "iGaQWri681Uy"
   },
   "source": [
    "## Question 4: Get the name of the licenses"
   ]
  },
  {
   "cell_type": "code",
   "execution_count": null,
   "metadata": {
    "id": "JjUWgHMs81Uy"
   },
   "outputs": [],
   "source": [
    "rdd.map(lambda x: x[\"license\"]).distinct().collect()"
   ]
  },
  {
   "cell_type": "markdown",
   "metadata": {
    "id": "_giGZDm981Uz"
   },
   "source": [
    "## Question 5: Get the shortest and the longest titles"
   ]
  },
  {
   "cell_type": "code",
   "execution_count": null,
   "metadata": {
    "id": "0ujiDBLl81Uz"
   },
   "outputs": [],
   "source": [
    "shortest_title_rdd= rdd.map(lambda x: x['title']).reduce(lambda x,y: x if x < y else y )\n",
    "longest_title_rdd= rdd.map(lambda x: x['title']).reduce(lambda x,y: x if x > y else y )\n",
    "\n",
    "print( \"The longest: \", longest_title_rdd)\n",
    "print( \"The shortest: \", shortest_title_rdd)"
   ]
  },
  {
   "cell_type": "markdown",
   "metadata": {
    "id": "c9iSZAe281Uz"
   },
   "source": [
    "## Question 6: Find abbreviations with 5 or more letters in the abstract"
   ]
  },
  {
   "cell_type": "code",
   "execution_count": 7,
   "metadata": {},
   "outputs": [],
   "source": [
    "import re\n",
    "\n",
    "def get_abbrivations(line):\n",
    "    result = re.search(r\"\\(([A-Za-z][^_/\\\\<>*])\\)\", line)\n",
    "    if result:\n",
    "        return result.group(1)      "
   ]
  },
  {
   "cell_type": "code",
   "execution_count": null,
   "metadata": {
    "id": "Z1Weltn281U0"
   },
   "outputs": [],
   "source": [
    "rdd.filter(lambda x: get_abbrivations(x['abstract'])).count()"
   ]
  },
  {
   "cell_type": "code",
   "execution_count": null,
   "metadata": {},
   "outputs": [],
   "source": [
    "rdd_2=rdd.filter(lambda x: get_abbrivations(x['abstract']))\n",
    "rdd_2.take(3)"
   ]
  },
  {
   "cell_type": "markdown",
   "metadata": {
    "id": "CnPa1NYL81U0"
   },
   "source": [
    "## Question 7: Get the number of archive records per month ('update_date' attribute)"
   ]
  },
  {
   "cell_type": "code",
   "execution_count": null,
   "metadata": {
    "id": "0Wsgod6K81U1"
   },
   "outputs": [],
   "source": [
    "import datetime\n",
    "\n",
    "def extract_date(DateIn):\n",
    "    d = datetime.datetime.strptime(DateIn, \"%Y-%m-%d\")\n",
    "    return d.month\n",
    "\n",
    "extract_date('2003-12-09')"
   ]
  },
  {
   "cell_type": "markdown",
   "metadata": {
    "id": "hQu2A93481U1"
   },
   "source": [
    "## Question 8: Get the average number of pages"
   ]
  },
  {
   "cell_type": "code",
   "execution_count": null,
   "metadata": {
    "id": "Wa1y3OKW81U1"
   },
   "outputs": [],
   "source": [
    "rdd.map(lambda x: (extract_date(x['update_date']), 1)).reduceByKey(lambda x,y : x+y).sortBy(lambda l: l[1]).collect()"
   ]
  },
  {
   "cell_type": "code",
   "execution_count": 8,
   "metadata": {},
   "outputs": [
    {
     "data": {
      "text/plain": [
       "54"
      ]
     },
     "execution_count": 8,
     "metadata": {},
     "output_type": "execute_result"
    }
   ],
   "source": [
    "def get_page(line):\n",
    "    search = re.findall('\\d+ pages', line)\n",
    "    if search:\n",
    "        return int(search[0].split(\" \")[0])\n",
    "    else :\n",
    "        return 0\n",
    "    \n",
    "\n",
    "get_page('54 pages')"
   ]
  },
  {
   "cell_type": "code",
   "execution_count": null,
   "metadata": {},
   "outputs": [],
   "source": [
    "rdd_avarage = rdd.map(lambda x: get_page(x['comments'] if x['comments'] != None else \"None\"))\n",
    "\n",
    "#remove 0\n",
    "rdd_avarage = rdd_avarage.filter(lambda x: x != 0)\n",
    "\n",
    "avarage_counter = rdd_avarage.count()\n",
    "\n",
    "avarage_summation = rdd_avarage.reduce(lambda x,y : x+y)\n",
    "\n",
    "print(avarage_counter)\n",
    "print(avarage_summation)\n",
    "\n",
    "print(\" the avarage of page is: \", (avarage_summation/avarage_counter))\n",
    "\n",
    "\n"
   ]
  },
  {
   "cell_type": "code",
   "execution_count": null,
   "metadata": {},
   "outputs": [],
   "source": [
    "import warnings\n",
    "warnings.filterwarnings('ignore')"
   ]
  },
  {
   "cell_type": "code",
   "execution_count": 10,
   "metadata": {},
   "outputs": [],
   "source": [
    "\n",
    "def get_Day_from_version(item) :\n",
    "    values = ''.join(str(v) for v in item)\n",
    "    return values.split(\",\")[1].split(\": '\")[1]\n",
    "\n",
    "def get_tuple(item):\n",
    "    a,b = item\n",
    "    return b[0]"
   ]
  },
  {
   "cell_type": "code",
   "execution_count": 13,
   "metadata": {},
   "outputs": [
    {
     "name": "stderr",
     "output_type": "stream",
     "text": [
      "[Stage 3:=========>                                              (17 + 8) / 100]\r"
     ]
    },
    {
     "name": "stdout",
     "output_type": "stream",
     "text": [
      "23/03/19 20:40:58 WARN MemoryStore: Not enough space to cache rdd_2_21 in memory! (computed 15.7 MiB so far)\n",
      "23/03/19 20:40:58 WARN BlockManager: Block rdd_2_21 could not be removed as it was not found on disk or in memory\n",
      "23/03/19 20:40:58 WARN BlockManager: Putting block rdd_2_21 failed\n",
      "23/03/19 20:40:58 WARN MemoryStore: Not enough space to cache rdd_2_22 in memory! (computed 15.5 MiB so far)\n",
      "23/03/19 20:40:58 WARN MemoryStore: Not enough space to cache rdd_2_23 in memory! (computed 15.4 MiB so far)\n",
      "23/03/19 20:40:58 WARN BlockManager: Block rdd_2_23 could not be removed as it was not found on disk or in memory\n",
      "23/03/19 20:40:58 WARN BlockManager: Block rdd_2_22 could not be removed as it was not found on disk or in memory\n",
      "23/03/19 20:40:58 WARN BlockManager: Putting block rdd_2_23 failed\n",
      "23/03/19 20:40:58 WARN BlockManager: Putting block rdd_2_22 failed\n"
     ]
    },
    {
     "name": "stderr",
     "output_type": "stream",
     "text": [
      "[Stage 3:=============>                                          (24 + 8) / 100]\r"
     ]
    },
    {
     "name": "stdout",
     "output_type": "stream",
     "text": [
      "23/03/19 20:41:01 WARN MemoryStore: Not enough space to cache rdd_2_30 in memory! (computed 6.9 MiB so far)\n",
      "23/03/19 20:41:01 WARN MemoryStore: Not enough space to cache rdd_2_29 in memory! (computed 6.8 MiB so far)\n",
      "23/03/19 20:41:01 WARN BlockManager: Block rdd_2_30 could not be removed as it was not found on disk or in memory\n",
      "23/03/19 20:41:01 WARN BlockManager: Putting block rdd_2_30 failed\n",
      "23/03/19 20:41:01 WARN BlockManager: Block rdd_2_29 could not be removed as it was not found on disk or in memory\n",
      "23/03/19 20:41:01 WARN BlockManager: Putting block rdd_2_29 failed\n",
      "23/03/19 20:41:01 WARN MemoryStore: Not enough space to cache rdd_2_31 in memory! (computed 6.9 MiB so far)\n",
      "23/03/19 20:41:01 WARN BlockManager: Block rdd_2_31 could not be removed as it was not found on disk or in memory\n",
      "23/03/19 20:41:01 WARN BlockManager: Putting block rdd_2_31 failed\n",
      "23/03/19 20:41:01 WARN MemoryStore: Not enough space to cache rdd_2_25 in memory! (computed 10.4 MiB so far)\n",
      "23/03/19 20:41:01 WARN BlockManager: Block rdd_2_25 could not be removed as it was not found on disk or in memory\n",
      "23/03/19 20:41:01 WARN BlockManager: Putting block rdd_2_25 failed\n",
      "23/03/19 20:41:01 WARN MemoryStore: Not enough space to cache rdd_2_26 in memory! (computed 10.6 MiB so far)\n",
      "23/03/19 20:41:01 WARN BlockManager: Block rdd_2_26 could not be removed as it was not found on disk or in memory\n",
      "23/03/19 20:41:01 WARN BlockManager: Putting block rdd_2_26 failed\n",
      "23/03/19 20:41:01 WARN MemoryStore: Not enough space to cache rdd_2_27 in memory! (computed 10.4 MiB so far)\n",
      "23/03/19 20:41:01 WARN BlockManager: Block rdd_2_27 could not be removed as it was not found on disk or in memory\n",
      "23/03/19 20:41:01 WARN BlockManager: Putting block rdd_2_27 failed\n"
     ]
    },
    {
     "name": "stderr",
     "output_type": "stream",
     "text": [
      "[Stage 3:=================>                                      (31 + 8) / 100]\r"
     ]
    },
    {
     "name": "stdout",
     "output_type": "stream",
     "text": [
      "23/03/19 20:41:03 WARN MemoryStore: Not enough space to cache rdd_2_35 in memory! (computed 4.3 MiB so far)\n",
      "23/03/19 20:41:03 WARN BlockManager: Block rdd_2_35 could not be removed as it was not found on disk or in memory\n",
      "23/03/19 20:41:03 WARN BlockManager: Putting block rdd_2_35 failed\n",
      "23/03/19 20:41:03 WARN MemoryStore: Not enough space to cache rdd_2_32 in memory! (computed 10.6 MiB so far)\n",
      "23/03/19 20:41:03 WARN BlockManager: Block rdd_2_32 could not be removed as it was not found on disk or in memory\n",
      "23/03/19 20:41:03 WARN BlockManager: Putting block rdd_2_32 failed\n",
      "23/03/19 20:41:03 WARN MemoryStore: Not enough space to cache rdd_2_38 in memory! (computed 4.3 MiB so far)\n",
      "23/03/19 20:41:03 WARN BlockManager: Block rdd_2_38 could not be removed as it was not found on disk or in memory\n",
      "23/03/19 20:41:03 WARN BlockManager: Putting block rdd_2_38 failed\n",
      "23/03/19 20:41:04 WARN MemoryStore: Not enough space to cache rdd_2_33 in memory! (computed 7.0 MiB so far)\n",
      "23/03/19 20:41:04 WARN BlockManager: Block rdd_2_33 could not be removed as it was not found on disk or in memory\n",
      "23/03/19 20:41:04 WARN BlockManager: Putting block rdd_2_33 failed\n",
      "23/03/19 20:41:04 WARN MemoryStore: Not enough space to cache rdd_2_34 in memory! (computed 7.0 MiB so far)\n",
      "23/03/19 20:41:04 WARN BlockManager: Block rdd_2_34 could not be removed as it was not found on disk or in memory\n",
      "23/03/19 20:41:04 WARN BlockManager: Putting block rdd_2_34 failed\n",
      "23/03/19 20:41:04 WARN MemoryStore: Not enough space to cache rdd_2_37 in memory! (computed 7.1 MiB so far)\n",
      "23/03/19 20:41:04 WARN BlockManager: Block rdd_2_37 could not be removed as it was not found on disk or in memory\n",
      "23/03/19 20:41:04 WARN BlockManager: Putting block rdd_2_37 failed\n"
     ]
    },
    {
     "name": "stderr",
     "output_type": "stream",
     "text": [
      "[Stage 3:====================>                                   (37 + 8) / 100]\r"
     ]
    },
    {
     "name": "stdout",
     "output_type": "stream",
     "text": [
      "23/03/19 20:41:06 WARN MemoryStore: Not enough space to cache rdd_2_42 in memory! (computed 1622.7 KiB so far)\n",
      "23/03/19 20:41:06 WARN MemoryStore: Not enough space to cache rdd_2_44 in memory! (computed 1662.7 KiB so far)\n",
      "23/03/19 20:41:06 WARN BlockManager: Block rdd_2_42 could not be removed as it was not found on disk or in memory\n",
      "23/03/19 20:41:06 WARN BlockManager: Putting block rdd_2_42 failed\n",
      "23/03/19 20:41:06 WARN BlockManager: Block rdd_2_44 could not be removed as it was not found on disk or in memory\n",
      "23/03/19 20:41:06 WARN BlockManager: Putting block rdd_2_44 failed\n",
      "23/03/19 20:41:06 WARN MemoryStore: Not enough space to cache rdd_2_39 in memory! (computed 10.7 MiB so far)\n",
      "23/03/19 20:41:06 WARN BlockManager: Block rdd_2_39 could not be removed as it was not found on disk or in memory\n",
      "23/03/19 20:41:06 WARN BlockManager: Putting block rdd_2_39 failed\n",
      "23/03/19 20:41:06 WARN MemoryStore: Not enough space to cache rdd_2_45 in memory! (computed 1683.4 KiB so far)\n",
      "23/03/19 20:41:06 WARN BlockManager: Block rdd_2_45 could not be removed as it was not found on disk or in memory\n",
      "23/03/19 20:41:06 WARN BlockManager: Putting block rdd_2_45 failed\n"
     ]
    },
    {
     "name": "stderr",
     "output_type": "stream",
     "text": [
      "[Stage 3:=====================>                                  (38 + 8) / 100]\r"
     ]
    },
    {
     "name": "stdout",
     "output_type": "stream",
     "text": [
      "23/03/19 20:41:06 WARN MemoryStore: Not enough space to cache rdd_2_41 in memory! (computed 4.3 MiB so far)\n",
      "23/03/19 20:41:06 WARN BlockManager: Block rdd_2_41 could not be removed as it was not found on disk or in memory\n",
      "23/03/19 20:41:06 WARN BlockManager: Putting block rdd_2_41 failed\n",
      "23/03/19 20:41:06 WARN MemoryStore: Not enough space to cache rdd_2_40 in memory! (computed 7.0 MiB so far)\n",
      "23/03/19 20:41:06 WARN BlockManager: Block rdd_2_40 could not be removed as it was not found on disk or in memory\n",
      "23/03/19 20:41:06 WARN BlockManager: Putting block rdd_2_40 failed\n",
      "23/03/19 20:41:06 WARN MemoryStore: Not enough space to cache rdd_2_43 in memory! (computed 4.4 MiB so far)\n",
      "23/03/19 20:41:06 WARN BlockManager: Block rdd_2_43 could not be removed as it was not found on disk or in memory\n",
      "23/03/19 20:41:06 WARN BlockManager: Putting block rdd_2_43 failed\n"
     ]
    },
    {
     "name": "stderr",
     "output_type": "stream",
     "text": [
      "[Stage 3:=========================>                              (45 + 8) / 100]\r"
     ]
    },
    {
     "name": "stdout",
     "output_type": "stream",
     "text": [
      "23/03/19 20:41:09 WARN MemoryStore: Not enough space to cache rdd_2_50 in memory! (computed 1658.8 KiB so far)\n",
      "23/03/19 20:41:09 WARN BlockManager: Block rdd_2_50 could not be removed as it was not found on disk or in memory\n",
      "23/03/19 20:41:09 WARN BlockManager: Putting block rdd_2_50 failed\n",
      "23/03/19 20:41:09 WARN MemoryStore: Failed to reserve initial memory threshold of 1024.0 KiB for computing block rdd_2_53 in memory.\n",
      "23/03/19 20:41:09 WARN MemoryStore: Not enough space to cache rdd_2_53 in memory! (computed 0.0 B so far)\n",
      "23/03/19 20:41:09 WARN BlockManager: Block rdd_2_53 could not be removed as it was not found on disk or in memory\n",
      "23/03/19 20:41:09 WARN BlockManager: Putting block rdd_2_53 failed\n",
      "23/03/19 20:41:09 WARN MemoryStore: Not enough space to cache rdd_2_52 in memory! (computed 1644.9 KiB so far)\n",
      "23/03/19 20:41:09 WARN BlockManager: Block rdd_2_52 could not be removed as it was not found on disk or in memory\n",
      "23/03/19 20:41:09 WARN BlockManager: Putting block rdd_2_52 failed\n",
      "23/03/19 20:41:09 WARN MemoryStore: Not enough space to cache rdd_2_48 in memory! (computed 4.4 MiB so far)\n",
      "23/03/19 20:41:09 WARN MemoryStore: Not enough space to cache rdd_2_51 in memory! (computed 1683.8 KiB so far)\n"
     ]
    },
    {
     "name": "stderr",
     "output_type": "stream",
     "text": [
      "[Stage 3:=========================>                              (46 + 8) / 100]\r"
     ]
    },
    {
     "name": "stdout",
     "output_type": "stream",
     "text": [
      "23/03/19 20:41:09 WARN MemoryStore: Not enough space to cache rdd_2_47 in memory! (computed 7.2 MiB so far)\n",
      "23/03/19 20:41:09 WARN BlockManager: Block rdd_2_47 could not be removed as it was not found on disk or in memory\n",
      "23/03/19 20:41:09 WARN BlockManager: Putting block rdd_2_47 failed\n",
      "23/03/19 20:41:09 WARN BlockManager: Block rdd_2_51 could not be removed as it was not found on disk or in memory\n",
      "23/03/19 20:41:09 WARN BlockManager: Block rdd_2_48 could not be removed as it was not found on disk or in memory\n",
      "23/03/19 20:41:09 WARN BlockManager: Putting block rdd_2_51 failed\n",
      "23/03/19 20:41:09 WARN BlockManager: Putting block rdd_2_48 failed\n",
      "23/03/19 20:41:09 WARN MemoryStore: Not enough space to cache rdd_2_46 in memory! (computed 10.8 MiB so far)\n",
      "23/03/19 20:41:09 WARN BlockManager: Block rdd_2_46 could not be removed as it was not found on disk or in memory\n",
      "23/03/19 20:41:09 WARN BlockManager: Putting block rdd_2_46 failed\n",
      "23/03/19 20:41:09 WARN MemoryStore: Not enough space to cache rdd_2_49 in memory! (computed 4.4 MiB so far)\n",
      "23/03/19 20:41:09 WARN BlockManager: Block rdd_2_49 could not be removed as it was not found on disk or in memory\n",
      "23/03/19 20:41:09 WARN BlockManager: Putting block rdd_2_49 failed\n"
     ]
    },
    {
     "name": "stderr",
     "output_type": "stream",
     "text": [
      "[Stage 3:==============================>                         (54 + 8) / 100]\r"
     ]
    },
    {
     "name": "stdout",
     "output_type": "stream",
     "text": [
      "23/03/19 20:41:13 WARN MemoryStore: Not enough space to cache rdd_2_55 in memory! (computed 4.6 MiB so far)\n",
      "23/03/19 20:41:13 WARN BlockManager: Block rdd_2_55 could not be removed as it was not found on disk or in memory\n",
      "23/03/19 20:41:13 WARN BlockManager: Putting block rdd_2_55 failed\n",
      "23/03/19 20:41:13 WARN MemoryStore: Not enough space to cache rdd_2_58 in memory! (computed 2.6 MiB so far)\n",
      "23/03/19 20:41:13 WARN BlockManager: Block rdd_2_58 could not be removed as it was not found on disk or in memory\n",
      "23/03/19 20:41:13 WARN BlockManager: Putting block rdd_2_58 failed\n",
      "23/03/19 20:41:13 WARN MemoryStore: Not enough space to cache rdd_2_56 in memory! (computed 4.5 MiB so far)\n",
      "23/03/19 20:41:13 WARN BlockManager: Block rdd_2_56 could not be removed as it was not found on disk or in memory\n",
      "23/03/19 20:41:13 WARN BlockManager: Putting block rdd_2_56 failed\n",
      "23/03/19 20:41:13 WARN MemoryStore: Not enough space to cache rdd_2_59 in memory! (computed 2.6 MiB so far)\n",
      "23/03/19 20:41:13 WARN BlockManager: Block rdd_2_59 could not be removed as it was not found on disk or in memory\n",
      "23/03/19 20:41:13 WARN BlockManager: Putting block rdd_2_59 failed\n",
      "23/03/19 20:41:13 WARN MemoryStore: Not enough space to cache rdd_2_60 in memory! (computed 2.6 MiB so far)\n",
      "23/03/19 20:41:13 WARN BlockManager: Block rdd_2_60 could not be removed as it was not found on disk or in memory\n",
      "23/03/19 20:41:13 WARN BlockManager: Putting block rdd_2_60 failed\n",
      "23/03/19 20:41:13 WARN MemoryStore: Not enough space to cache rdd_2_57 in memory! (computed 7.3 MiB so far)\n",
      "23/03/19 20:41:13 WARN BlockManager: Block rdd_2_57 could not be removed as it was not found on disk or in memory\n",
      "23/03/19 20:41:13 WARN BlockManager: Putting block rdd_2_57 failed\n",
      "23/03/19 20:41:14 WARN MemoryStore: Not enough space to cache rdd_2_54 in memory! (computed 11.1 MiB so far)\n",
      "23/03/19 20:41:14 WARN BlockManager: Block rdd_2_54 could not be removed as it was not found on disk or in memory\n",
      "23/03/19 20:41:14 WARN BlockManager: Putting block rdd_2_54 failed\n",
      "23/03/19 20:41:14 WARN MemoryStore: Not enough space to cache rdd_2_61 in memory! (computed 7.3 MiB so far)\n",
      "23/03/19 20:41:14 WARN BlockManager: Block rdd_2_61 could not be removed as it was not found on disk or in memory\n",
      "23/03/19 20:41:14 WARN BlockManager: Putting block rdd_2_61 failed\n"
     ]
    },
    {
     "name": "stderr",
     "output_type": "stream",
     "text": [
      "[Stage 3:==================================>                     (61 + 8) / 100]\r"
     ]
    },
    {
     "name": "stdout",
     "output_type": "stream",
     "text": [
      "23/03/19 20:41:16 WARN MemoryStore: Not enough space to cache rdd_2_63 in memory! (computed 4.5 MiB so far)\n",
      "23/03/19 20:41:16 WARN BlockManager: Block rdd_2_63 could not be removed as it was not found on disk or in memory\n",
      "23/03/19 20:41:16 WARN BlockManager: Putting block rdd_2_63 failed\n",
      "23/03/19 20:41:16 WARN MemoryStore: Not enough space to cache rdd_2_67 in memory! (computed 2.7 MiB so far)\n",
      "23/03/19 20:41:16 WARN MemoryStore: Not enough space to cache rdd_2_62 in memory! (computed 4.6 MiB so far)\n",
      "23/03/19 20:41:16 WARN BlockManager: Block rdd_2_62 could not be removed as it was not found on disk or in memory\n",
      "23/03/19 20:41:16 WARN BlockManager: Putting block rdd_2_62 failed\n",
      "23/03/19 20:41:16 WARN BlockManager: Block rdd_2_67 could not be removed as it was not found on disk or in memory\n",
      "23/03/19 20:41:16 WARN BlockManager: Putting block rdd_2_67 failed\n",
      "23/03/19 20:41:16 WARN MemoryStore: Not enough space to cache rdd_2_68 in memory! (computed 2.7 MiB so far)\n",
      "23/03/19 20:41:16 WARN BlockManager: Block rdd_2_68 could not be removed as it was not found on disk or in memory\n",
      "23/03/19 20:41:16 WARN BlockManager: Putting block rdd_2_68 failed\n"
     ]
    },
    {
     "name": "stderr",
     "output_type": "stream",
     "text": [
      "[Stage 3:==================================>                     (62 + 8) / 100]\r"
     ]
    },
    {
     "name": "stdout",
     "output_type": "stream",
     "text": [
      "23/03/19 20:41:17 WARN MemoryStore: Not enough space to cache rdd_2_69 in memory! (computed 4.5 MiB so far)\n",
      "23/03/19 20:41:17 WARN BlockManager: Block rdd_2_69 could not be removed as it was not found on disk or in memory\n",
      "23/03/19 20:41:17 WARN BlockManager: Putting block rdd_2_69 failed\n",
      "23/03/19 20:41:17 WARN MemoryStore: Not enough space to cache rdd_2_64 in memory! (computed 7.4 MiB so far)\n",
      "23/03/19 20:41:17 WARN BlockManager: Block rdd_2_64 could not be removed as it was not found on disk or in memory\n",
      "23/03/19 20:41:17 WARN BlockManager: Putting block rdd_2_64 failed\n",
      "23/03/19 20:41:17 WARN MemoryStore: Not enough space to cache rdd_2_65 in memory! (computed 7.4 MiB so far)\n",
      "23/03/19 20:41:17 WARN BlockManager: Block rdd_2_65 could not be removed as it was not found on disk or in memory\n",
      "23/03/19 20:41:17 WARN BlockManager: Putting block rdd_2_65 failed\n",
      "23/03/19 20:41:17 WARN MemoryStore: Not enough space to cache rdd_2_66 in memory! (computed 7.5 MiB so far)\n",
      "23/03/19 20:41:17 WARN BlockManager: Block rdd_2_66 could not be removed as it was not found on disk or in memory\n",
      "23/03/19 20:41:17 WARN BlockManager: Putting block rdd_2_66 failed\n"
     ]
    },
    {
     "name": "stderr",
     "output_type": "stream",
     "text": [
      "[Stage 3:======================================>                 (69 + 8) / 100]\r"
     ]
    },
    {
     "name": "stdout",
     "output_type": "stream",
     "text": [
      "23/03/19 20:41:19 WARN MemoryStore: Not enough space to cache rdd_2_71 in memory! (computed 4.8 MiB so far)\n",
      "23/03/19 20:41:19 WARN BlockManager: Block rdd_2_71 could not be removed as it was not found on disk or in memory\n",
      "23/03/19 20:41:19 WARN BlockManager: Putting block rdd_2_71 failed\n",
      "23/03/19 20:41:20 WARN MemoryStore: Not enough space to cache rdd_2_75 in memory! (computed 2.7 MiB so far)\n",
      "23/03/19 20:41:20 WARN BlockManager: Block rdd_2_75 could not be removed as it was not found on disk or in memory\n",
      "23/03/19 20:41:20 WARN BlockManager: Putting block rdd_2_75 failed\n",
      "23/03/19 20:41:20 WARN MemoryStore: Failed to reserve initial memory threshold of 1024.0 KiB for computing block rdd_2_76 in memory.\n",
      "23/03/19 20:41:20 WARN MemoryStore: Not enough space to cache rdd_2_76 in memory! (computed 0.0 B so far)\n",
      "23/03/19 20:41:20 WARN BlockManager: Block rdd_2_76 could not be removed as it was not found on disk or in memory\n",
      "23/03/19 20:41:20 WARN BlockManager: Putting block rdd_2_76 failed\n"
     ]
    },
    {
     "name": "stderr",
     "output_type": "stream",
     "text": [
      "[Stage 3:=======================================>                (70 + 8) / 100]\r"
     ]
    },
    {
     "name": "stdout",
     "output_type": "stream",
     "text": [
      "23/03/19 20:41:20 WARN MemoryStore: Not enough space to cache rdd_2_72 in memory! (computed 4.6 MiB so far)\n",
      "23/03/19 20:41:20 WARN BlockManager: Block rdd_2_72 could not be removed as it was not found on disk or in memory\n",
      "23/03/19 20:41:20 WARN BlockManager: Putting block rdd_2_72 failed\n",
      "23/03/19 20:41:20 WARN MemoryStore: Not enough space to cache rdd_2_73 in memory! (computed 4.6 MiB so far)\n",
      "23/03/19 20:41:20 WARN BlockManager: Block rdd_2_73 could not be removed as it was not found on disk or in memory\n",
      "23/03/19 20:41:20 WARN BlockManager: Putting block rdd_2_73 failed\n",
      "23/03/19 20:41:20 WARN MemoryStore: Not enough space to cache rdd_2_74 in memory! (computed 7.5 MiB so far)\n",
      "23/03/19 20:41:20 WARN BlockManager: Block rdd_2_74 could not be removed as it was not found on disk or in memory\n",
      "23/03/19 20:41:20 WARN BlockManager: Putting block rdd_2_74 failed\n",
      "23/03/19 20:41:21 WARN MemoryStore: Not enough space to cache rdd_2_70 in memory! (computed 11.6 MiB so far)\n",
      "23/03/19 20:41:21 WARN BlockManager: Block rdd_2_70 could not be removed as it was not found on disk or in memory\n",
      "23/03/19 20:41:21 WARN BlockManager: Putting block rdd_2_70 failed\n",
      "23/03/19 20:41:21 WARN MemoryStore: Not enough space to cache rdd_2_77 in memory! (computed 7.5 MiB so far)\n",
      "23/03/19 20:41:21 WARN BlockManager: Block rdd_2_77 could not be removed as it was not found on disk or in memory\n",
      "23/03/19 20:41:21 WARN BlockManager: Putting block rdd_2_77 failed\n"
     ]
    },
    {
     "name": "stderr",
     "output_type": "stream",
     "text": [
      "[Stage 3:===========================================>            (77 + 8) / 100]\r"
     ]
    },
    {
     "name": "stdout",
     "output_type": "stream",
     "text": [
      "23/03/19 20:41:23 WARN MemoryStore: Failed to reserve initial memory threshold of 1024.0 KiB for computing block rdd_2_85 in memory.\n",
      "23/03/19 20:41:23 WARN MemoryStore: Not enough space to cache rdd_2_85 in memory! (computed 0.0 B so far)\n",
      "23/03/19 20:41:23 WARN BlockManager: Block rdd_2_85 could not be removed as it was not found on disk or in memory\n",
      "23/03/19 20:41:23 WARN BlockManager: Putting block rdd_2_85 failed\n",
      "23/03/19 20:41:23 WARN MemoryStore: Not enough space to cache rdd_2_82 in memory! (computed 2.6 MiB so far)\n",
      "23/03/19 20:41:23 WARN MemoryStore: Not enough space to cache rdd_2_79 in memory! (computed 4.6 MiB so far)\n",
      "23/03/19 20:41:23 WARN BlockManager: Block rdd_2_79 could not be removed as it was not found on disk or in memory\n",
      "23/03/19 20:41:23 WARN BlockManager: Block rdd_2_82 could not be removed as it was not found on disk or in memory\n",
      "23/03/19 20:41:23 WARN BlockManager: Putting block rdd_2_79 failed\n",
      "23/03/19 20:41:23 WARN BlockManager: Putting block rdd_2_82 failed\n",
      "23/03/19 20:41:23 WARN MemoryStore: Not enough space to cache rdd_2_83 in memory! (computed 2.6 MiB so far)\n",
      "23/03/19 20:41:23 WARN BlockManager: Block rdd_2_83 could not be removed as it was not found on disk or in memory\n",
      "23/03/19 20:41:23 WARN BlockManager: Putting block rdd_2_83 failed\n",
      "23/03/19 20:41:23 WARN MemoryStore: Not enough space to cache rdd_2_84 in memory! (computed 2.7 MiB so far)\n"
     ]
    },
    {
     "name": "stderr",
     "output_type": "stream",
     "text": [
      "[Stage 3:===========================================>            (78 + 8) / 100]\r"
     ]
    },
    {
     "name": "stdout",
     "output_type": "stream",
     "text": [
      "23/03/19 20:41:23 WARN BlockManager: Block rdd_2_84 could not be removed as it was not found on disk or in memory\n",
      "23/03/19 20:41:23 WARN BlockManager: Putting block rdd_2_84 failed\n",
      "23/03/19 20:41:23 WARN MemoryStore: Not enough space to cache rdd_2_81 in memory! (computed 4.5 MiB so far)\n",
      "23/03/19 20:41:23 WARN BlockManager: Block rdd_2_81 could not be removed as it was not found on disk or in memory\n",
      "23/03/19 20:41:23 WARN BlockManager: Putting block rdd_2_81 failed\n",
      "23/03/19 20:41:24 WARN MemoryStore: Not enough space to cache rdd_2_78 in memory! (computed 11.4 MiB so far)\n",
      "23/03/19 20:41:24 WARN BlockManager: Block rdd_2_78 could not be removed as it was not found on disk or in memory\n",
      "23/03/19 20:41:24 WARN BlockManager: Putting block rdd_2_78 failed\n",
      "23/03/19 20:41:25 WARN MemoryStore: Not enough space to cache rdd_2_80 in memory! (computed 11.4 MiB so far)\n",
      "23/03/19 20:41:25 WARN BlockManager: Block rdd_2_80 could not be removed as it was not found on disk or in memory\n",
      "23/03/19 20:41:25 WARN BlockManager: Putting block rdd_2_80 failed\n"
     ]
    },
    {
     "name": "stderr",
     "output_type": "stream",
     "text": [
      "[Stage 3:===============================================>        (85 + 8) / 100]\r"
     ]
    },
    {
     "name": "stdout",
     "output_type": "stream",
     "text": [
      "23/03/19 20:41:26 WARN MemoryStore: Not enough space to cache rdd_2_89 in memory! (computed 3.6 MiB so far)\n",
      "23/03/19 20:41:26 WARN BlockManager: Block rdd_2_89 could not be removed as it was not found on disk or in memory\n",
      "23/03/19 20:41:26 WARN BlockManager: Putting block rdd_2_89 failed\n",
      "23/03/19 20:41:26 WARN MemoryStore: Failed to reserve initial memory threshold of 1024.0 KiB for computing block rdd_2_93 in memory.\n",
      "23/03/19 20:41:26 WARN MemoryStore: Not enough space to cache rdd_2_93 in memory! (computed 0.0 B so far)\n",
      "23/03/19 20:41:26 WARN BlockManager: Block rdd_2_93 could not be removed as it was not found on disk or in memory\n",
      "23/03/19 20:41:26 WARN BlockManager: Putting block rdd_2_93 failed\n",
      "23/03/19 20:41:27 WARN MemoryStore: Not enough space to cache rdd_2_88 in memory! (computed 3.5 MiB so far)\n",
      "23/03/19 20:41:27 WARN BlockManager: Block rdd_2_88 could not be removed as it was not found on disk or in memory\n",
      "23/03/19 20:41:27 WARN BlockManager: Putting block rdd_2_88 failed\n",
      "23/03/19 20:41:27 WARN MemoryStore: Not enough space to cache rdd_2_90 in memory! (computed 3.3 MiB so far)\n",
      "23/03/19 20:41:27 WARN BlockManager: Block rdd_2_90 could not be removed as it was not found on disk or in memory\n",
      "23/03/19 20:41:27 WARN BlockManager: Putting block rdd_2_90 failed\n"
     ]
    },
    {
     "name": "stderr",
     "output_type": "stream",
     "text": [
      "[Stage 3:================================================>       (86 + 8) / 100]\r"
     ]
    },
    {
     "name": "stdout",
     "output_type": "stream",
     "text": [
      "23/03/19 20:41:27 WARN MemoryStore: Not enough space to cache rdd_2_92 in memory! (computed 3.3 MiB so far)\n",
      "23/03/19 20:41:27 WARN BlockManager: Block rdd_2_92 could not be removed as it was not found on disk or in memory\n",
      "23/03/19 20:41:27 WARN BlockManager: Putting block rdd_2_92 failed\n",
      "23/03/19 20:41:28 WARN MemoryStore: Not enough space to cache rdd_2_87 in memory! (computed 8.5 MiB so far)\n",
      "23/03/19 20:41:28 WARN BlockManager: Block rdd_2_87 could not be removed as it was not found on disk or in memory\n",
      "23/03/19 20:41:28 WARN BlockManager: Putting block rdd_2_87 failed\n",
      "23/03/19 20:41:28 WARN MemoryStore: Not enough space to cache rdd_2_86 in memory! (computed 11.0 MiB so far)\n",
      "23/03/19 20:41:28 WARN BlockManager: Block rdd_2_86 could not be removed as it was not found on disk or in memory\n",
      "23/03/19 20:41:28 WARN BlockManager: Putting block rdd_2_86 failed\n",
      "23/03/19 20:41:28 WARN MemoryStore: Not enough space to cache rdd_2_91 in memory! (computed 7.6 MiB so far)\n",
      "23/03/19 20:41:28 WARN BlockManager: Block rdd_2_91 could not be removed as it was not found on disk or in memory\n",
      "23/03/19 20:41:28 WARN BlockManager: Putting block rdd_2_91 failed\n"
     ]
    },
    {
     "name": "stderr",
     "output_type": "stream",
     "text": [
      "[Stage 3:====================================================>   (93 + 7) / 100]\r"
     ]
    },
    {
     "name": "stdout",
     "output_type": "stream",
     "text": [
      "23/03/19 20:41:30 WARN MemoryStore: Not enough space to cache rdd_2_97 in memory! (computed 3.2 MiB so far)\n",
      "23/03/19 20:41:30 WARN BlockManager: Block rdd_2_97 could not be removed as it was not found on disk or in memory\n",
      "23/03/19 20:41:30 WARN BlockManager: Putting block rdd_2_97 failed\n",
      "23/03/19 20:41:30 WARN MemoryStore: Not enough space to cache rdd_2_94 in memory! (computed 5.2 MiB so far)\n",
      "23/03/19 20:41:30 WARN BlockManager: Block rdd_2_94 could not be removed as it was not found on disk or in memory\n",
      "23/03/19 20:41:30 WARN BlockManager: Putting block rdd_2_94 failed\n",
      "23/03/19 20:41:30 WARN MemoryStore: Not enough space to cache rdd_2_99 in memory! (computed 3.4 MiB so far)\n",
      "23/03/19 20:41:30 WARN BlockManager: Block rdd_2_99 could not be removed as it was not found on disk or in memory\n",
      "23/03/19 20:41:30 WARN BlockManager: Putting block rdd_2_99 failed\n"
     ]
    },
    {
     "name": "stderr",
     "output_type": "stream",
     "text": [
      "[Stage 3:====================================================>   (94 + 6) / 100]\r"
     ]
    },
    {
     "name": "stdout",
     "output_type": "stream",
     "text": [
      "23/03/19 20:41:31 WARN MemoryStore: Not enough space to cache rdd_2_98 in memory! (computed 8.1 MiB so far)\n",
      "23/03/19 20:41:31 WARN BlockManager: Block rdd_2_98 could not be removed as it was not found on disk or in memory\n",
      "23/03/19 20:41:31 WARN BlockManager: Putting block rdd_2_98 failed\n",
      "23/03/19 20:41:31 WARN MemoryStore: Not enough space to cache rdd_2_96 in memory! (computed 8.0 MiB so far)\n",
      "23/03/19 20:41:31 WARN BlockManager: Block rdd_2_96 could not be removed as it was not found on disk or in memory\n",
      "23/03/19 20:41:31 WARN BlockManager: Putting block rdd_2_96 failed\n",
      "23/03/19 20:41:31 WARN MemoryStore: Not enough space to cache rdd_2_95 in memory! (computed 11.0 MiB so far)\n",
      "23/03/19 20:41:31 WARN BlockManager: Block rdd_2_95 could not be removed as it was not found on disk or in memory\n",
      "23/03/19 20:41:31 WARN BlockManager: Putting block rdd_2_95 failed\n"
     ]
    },
    {
     "name": "stderr",
     "output_type": "stream",
     "text": [
      "                                                                                \r"
     ]
    },
    {
     "data": {
      "text/plain": [
       "[('Fri', 17.648611453234945),\n",
       " ('Sun', 18.44242086262309),\n",
       " ('Sat', 17.879148288973383),\n",
       " ('Thu', 17.78658802556468),\n",
       " ('Tue', 17.80535680192016),\n",
       " ('Wed', 17.818479233465066),\n",
       " ('Mon', 17.983318652279234)]"
      ]
     },
     "execution_count": 13,
     "metadata": {},
     "output_type": "execute_result"
    }
   ],
   "source": [
    "rdd.map(lambda x: (get_Day_from_version(x['versions']), (get_page(x['comments'] if x['comments'] != None else \"None\"), 1)))\\\n",
    "    .filter(lambda x: get_tuple(x) !=0)\\\n",
    "    .reduceByKey(lambda x,y: (x[0]+y[0], x[1]+y[1]))\\\n",
    "    .map(lambda x: (x[0], x[1][0]/x[1][1]))\\\n",
    "    .collect()\n",
    "\n",
    "\n"
   ]
  },
  {
   "cell_type": "code",
   "execution_count": null,
   "metadata": {},
   "outputs": [],
   "source": []
  }
 ],
 "metadata": {
  "colab": {
   "collapsed_sections": [],
   "name": "arxiv-metadata_Analysis (JSON_RDD).ipynb",
   "provenance": []
  },
  "kernelspec": {
   "display_name": "Python 3 (ipykernel)",
   "language": "python",
   "name": "python3"
  },
  "language_info": {
   "codemirror_mode": {
    "name": "ipython",
    "version": 3
   },
   "file_extension": ".py",
   "mimetype": "text/x-python",
   "name": "python",
   "nbconvert_exporter": "python",
   "pygments_lexer": "ipython3",
   "version": "3.9.13"
  }
 },
 "nbformat": 4,
 "nbformat_minor": 1
}
